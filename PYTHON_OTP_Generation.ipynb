{
  "nbformat": 4,
  "nbformat_minor": 0,
  "metadata": {
    "colab": {
      "provenance": [],
      "authorship_tag": "ABX9TyP5fyq7U/DObF9TDHiMGCTk",
      "include_colab_link": true
    },
    "kernelspec": {
      "name": "python3",
      "display_name": "Python 3"
    },
    "language_info": {
      "name": "python"
    }
  },
  "cells": [
    {
      "cell_type": "markdown",
      "metadata": {
        "id": "view-in-github",
        "colab_type": "text"
      },
      "source": [
        "<a href=\"https://colab.research.google.com/github/Shreya-Manjunath/Capstone-projects/blob/main/PYTHON_OTP_Generation.ipynb\" target=\"_parent\"><img src=\"https://colab.research.google.com/assets/colab-badge.svg\" alt=\"Open In Colab\"/></a>"
      ]
    },
    {
      "cell_type": "code",
      "execution_count": null,
      "metadata": {
        "id": "mCcPwr5LSGE1"
      },
      "outputs": [],
      "source": [
        "import random                # import random"
      ]
    },
    {
      "cell_type": "code",
      "source": [
        "def generate_otp():                                                  #function effectively generates a random 6-digit OTP consisting of numbers between 0 and 9.\n",
        "    otp = ''.join(str(random.randint(0, 9)) for _ in range(6))\n",
        "    return otp"
      ],
      "metadata": {
        "id": "h3JyD6h7SS5X"
      },
      "execution_count": null,
      "outputs": []
    },
    {
      "cell_type": "code",
      "source": [
        "def verify_otp(generated_otp):\n",
        "    # Print the OTP sent for verification\n",
        "    print(f\"\\nEmail sent for OTP verification: {generated_otp}\")\n",
        "\n",
        "    # Prompt the user to enter the OTP\n",
        "    entered_otp = input(\"Enter the OTP: \")\n",
        "\n",
        "    # Check if the entered OTP is a valid 6-digit number\n",
        "    if len(entered_otp) != 6 or not entered_otp.isdigit():\n",
        "        # Raise a ValueError if the entered OTP is not a valid 6-digit number\n",
        "        raise ValueError(\"Please enter a valid 6-digit OTP.\")\n",
        "\n",
        "    # Return True if the entered OTP matches the generated OTP, False otherwise\n",
        "    return generated_otp == entered_otp\n"
      ],
      "metadata": {
        "id": "ClBVGumjV05-"
      },
      "execution_count": null,
      "outputs": []
    },
    {
      "cell_type": "code",
      "source": [
        "def main():\n",
        "    max_attempts = 3  # Maximum number of attempts allowed for OTP verification\n",
        "\n",
        "    # Iterate for the maximum number of attempts\n",
        "    for _ in range(max_attempts):\n",
        "        # Generate a new OTP\n",
        "        generated_otp = generate_otp()\n",
        "\n",
        "        try:\n",
        "            # Verify the OTP\n",
        "            if verify_otp(generated_otp):\n",
        "                # If OTP verification is successful, print success message and exit the loop\n",
        "                print(\"OTP verified successfully! Access granted.\")\n",
        "                break\n",
        "            else:\n",
        "                # If OTP verification fails, print error message\n",
        "                print(\"Incorrect OTP. Please try again.\")\n",
        "        except ValueError as e:\n",
        "            # If an error occurs (e.g., invalid OTP), print the error message\n",
        "            print(e)\n",
        "        else:\n",
        "            # If all attempts are used up, print a message indicating maximum attempts exceeded\n",
        "            print(\"Maximum attempts exceeded. Please try again later.\")\n",
        "\n",
        "if __name__ == \"__main__\":\n",
        "    # Execute the main function when the script is run\n",
        "    main()\n"
      ],
      "metadata": {
        "colab": {
          "base_uri": "https://localhost:8080/"
        },
        "id": "aAmeseplf6sk",
        "outputId": "3b06cd15-f3f4-4296-d22c-1fa4022ede15"
      },
      "execution_count": null,
      "outputs": [
        {
          "output_type": "stream",
          "name": "stdout",
          "text": [
            "\n",
            "Email sent for OTP verification: 246716\n"
          ]
        }
      ]
    }
  ]
}